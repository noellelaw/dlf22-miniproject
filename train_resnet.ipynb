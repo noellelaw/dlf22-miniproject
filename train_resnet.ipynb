{
  "cells": [
    {
      "cell_type": "code",
      "execution_count": 1,
      "metadata": {
        "colab": {
          "base_uri": "https://localhost:8080/"
        },
        "id": "H8XT9QJjKjoh",
        "outputId": "04a20e2d-6240-4193-e9d1-301592235f0a",
        "cellView": "form"
      },
      "outputs": [
        {
          "output_type": "stream",
          "name": "stdout",
          "text": [
            "Mounted at /content/drive\n"
          ]
        }
      ],
      "source": [
        "#@title Connect to google drive\n",
        "\n",
        "from google.colab import drive \n",
        "drive.mount('/content/drive')"
      ]
    },
    {
      "cell_type": "code",
      "execution_count": 2,
      "metadata": {
        "colab": {
          "base_uri": "https://localhost:8080/"
        },
        "id": "RZYSMjuIlboP",
        "outputId": "a3c4fe96-c94e-4d80-f28b-81432241e038",
        "cellView": "form"
      },
      "outputs": [
        {
          "output_type": "stream",
          "name": "stdout",
          "text": [
            "Cloning into 'dlf22-miniproject'...\n",
            "remote: Enumerating objects: 89, done.\u001b[K\n",
            "remote: Counting objects: 100% (89/89), done.\u001b[K\n",
            "remote: Compressing objects: 100% (52/52), done.\u001b[K\n",
            "remote: Total 89 (delta 53), reused 67 (delta 35), pack-reused 0\u001b[K\n",
            "Unpacking objects: 100% (89/89), done.\n",
            "/content/dlf22-miniproject\n"
          ]
        }
      ],
      "source": [
        "#@title Clone project github\n",
        "! git clone https://github.com/noellelaw/dlf22-miniproject\n",
        "%cd /content/dlf22-miniproject"
      ]
    },
    {
      "cell_type": "code",
      "execution_count": 3,
      "metadata": {
        "id": "HBbQC3DvmFoL",
        "cellView": "form"
      },
      "outputs": [],
      "source": [
        "#@title Import needed libraries\n",
        "import torch\n",
        "import torch.nn as nn\n",
        "import torch.optim as optim\n",
        "import torch.nn.functional as F\n",
        "import torch.backends.cudnn as cudnn\n",
        "import numpy as np\n",
        "\n",
        "import torchvision\n",
        "import torchvision.transforms as transforms\n",
        "from torchsummary import summary\n",
        "\n",
        "import os\n",
        "import argparse\n",
        "\n",
        "from models import resnet, resnet_F5x5, resnet_L3, resnet_L2, resnet_L3K3, resnet_L3_LReLU"
      ]
    },
    {
      "cell_type": "code",
      "execution_count": 4,
      "metadata": {
        "id": "RPyzfsu2qDMl",
        "cellView": "form"
      },
      "outputs": [],
      "source": [
        "#@title Define hyperparameters\n",
        "BATCH_SIZE = 64 #@param {type:'integer'}\n",
        "LEARNING_RATE = 5e-3 #@param {type:'number'}\n",
        "WEIGHT_DECAY = 5e-4 #@param {type:'number'}\n",
        "MOMENTUM = 0.9 #@param {type:'number'}\n",
        "# Threshold for amount of times model doesn't\n",
        "# improve before training is stopped\n",
        "PATIENCE = 10 #@param {type:'integer'}\n",
        "# Minimum change in validation accuracy that\n",
        "# qualifies as improvement\n",
        "MIN_DELTA = 7 #@param {type:'integer'}\n",
        "NUM_EPOCHS = 100 #@param {type:'integer'}\n",
        "CKPT_FILE = 'ckpt_RN38_LReLU.pth' #@param {type:'string'} \n",
        "CKPT_FLDR = '/content/drive/MyDrive/checkpoint/' #@param {type: 'string'}\n",
        "RESUME = False #@param {type:'boolean'}\n",
        "DEVICE = 'cuda' if torch.cuda.is_available() else 'cpu'\n",
        "CKPT_PATH = os.path.join(CKPT_FLDR + CKPT_FILE )"
      ]
    },
    {
      "cell_type": "code",
      "execution_count": 5,
      "metadata": {
        "id": "ksXjVVfl6T3l",
        "cellView": "form"
      },
      "outputs": [],
      "source": [
        "#@title Define CIFAR-10 classes\n",
        "CLASSES = ('plane', \n",
        "           'car', \n",
        "           'bird', \n",
        "           'cat', \n",
        "           'deer',\n",
        "           'dog', \n",
        "           'frog', \n",
        "           'horse', \n",
        "           'ship', \n",
        "           'truck')"
      ]
    },
    {
      "cell_type": "code",
      "execution_count": 6,
      "metadata": {
        "id": "x-IICTvG5DFc",
        "cellView": "form"
      },
      "outputs": [],
      "source": [
        "#@title Transform train set images\n",
        "transform_train = transforms.Compose([\n",
        "    transforms.RandomCrop(32, padding=4),\n",
        "    transforms.RandomHorizontalFlip(),\n",
        "    transforms.ToTensor(),\n",
        "    transforms.Normalize((0.4914, 0.4822, 0.4465), (0.2023, 0.1994, 0.2010)),\n",
        "])"
      ]
    },
    {
      "cell_type": "code",
      "execution_count": 7,
      "metadata": {
        "id": "Es9Hl5ej5VyK",
        "cellView": "form"
      },
      "outputs": [],
      "source": [
        "#@title Transform validation set images\n",
        "transform_valid = transforms.Compose([\n",
        "    transforms.ToTensor(),\n",
        "    transforms.Normalize((0.4914, 0.4822, 0.4465), (0.2023, 0.1994, 0.2010)),\n",
        "])"
      ]
    },
    {
      "cell_type": "code",
      "execution_count": 8,
      "metadata": {
        "colab": {
          "base_uri": "https://localhost:8080/",
          "height": 101,
          "referenced_widgets": [
            "d84138e508ab49779d3563d64b516bb2",
            "d673abd37b8c4a05820667db29e71d85",
            "55e98f2c07164191a4880f5d1b91e596",
            "c81cbce9aafb411c9a3fd6efdf1ec95a",
            "6d9f05a767024bd3a9b8081a7cd4e278",
            "9574c97d1c904b14b05e87be7a8b9940",
            "0b1a6c6253cf42fca717f3114b173446",
            "1a83e8fba2f647d8996dd4e79513b30a",
            "000b7025916d402cae3567b6f1342cc6",
            "7510d047e8da467b91847d4873d0cbcc",
            "46efea019d984a75acc022fff99f501c"
          ]
        },
        "id": "KfXKIF-k5wuJ",
        "outputId": "cd6250b7-fff0-49dd-b825-b01b1cdf5f22",
        "cellView": "form"
      },
      "outputs": [
        {
          "output_type": "stream",
          "name": "stdout",
          "text": [
            "Downloading https://www.cs.toronto.edu/~kriz/cifar-10-python.tar.gz to ./data/cifar-10-python.tar.gz\n"
          ]
        },
        {
          "output_type": "display_data",
          "data": {
            "text/plain": [
              "  0%|          | 0/170498071 [00:00<?, ?it/s]"
            ],
            "application/vnd.jupyter.widget-view+json": {
              "version_major": 2,
              "version_minor": 0,
              "model_id": "d84138e508ab49779d3563d64b516bb2"
            }
          },
          "metadata": {}
        },
        {
          "output_type": "stream",
          "name": "stdout",
          "text": [
            "Extracting ./data/cifar-10-python.tar.gz to ./data\n",
            "Files already downloaded and verified\n"
          ]
        }
      ],
      "source": [
        "#@title Get train and test sets from CIFAR-10\n",
        "trainset = torchvision.datasets.CIFAR10(\n",
        "    root='./data', train=True, download=True, transform=transform_train)\n",
        "testset = torchvision.datasets.CIFAR10(\n",
        "    root='./data', train=False, download=True, transform=transform_valid)"
      ]
    },
    {
      "cell_type": "code",
      "execution_count": 9,
      "metadata": {
        "id": "NrQ0VG7955ZS",
        "cellView": "form"
      },
      "outputs": [],
      "source": [
        "#@title Define train and validation data loaders\n",
        "trainloader = torch.utils.data.DataLoader(\n",
        "    trainset, batch_size=BATCH_SIZE, shuffle=True, num_workers=2)\n",
        "\n",
        "validloader = torch.utils.data.DataLoader(\n",
        "    testset, batch_size=BATCH_SIZE, shuffle=False, num_workers=2)"
      ]
    },
    {
      "cell_type": "code",
      "execution_count": 10,
      "metadata": {
        "id": "mgK3nsZm7FhT",
        "cellView": "form"
      },
      "outputs": [],
      "source": [
        "#@title Build model, be sure to select model here\n",
        "net = resnet_L3_LReLU.ResNet38()\n",
        "net = net.to(DEVICE)\n",
        "\n",
        "if RESUME:\n",
        "    assert os.path.isdir('checkpoint'), 'Error: no checkpoint directory found!'\n",
        "    checkpoint = torch.load(CKPT_PATH)\n",
        "    net.load_state_dict(checkpoint['net'])\n",
        "    best_acc = checkpoint['acc']\n",
        "    start_epoch = checkpoint['epoch']\n",
        "\n",
        "\n",
        "criterion = nn.CrossEntropyLoss()\n",
        "optimizer = optim.SGD(net.parameters(), \n",
        "                      lr=LEARNING_RATE,\n",
        "                      momentum=MOMENTUM, \n",
        "                      weight_decay=WEIGHT_DECAY)\n",
        "#scheduler = torch.optim.lr_scheduler.CosineAnnealingLR(optimizer, T_max=200)"
      ]
    },
    {
      "cell_type": "code",
      "execution_count": 11,
      "metadata": {
        "colab": {
          "base_uri": "https://localhost:8080/"
        },
        "id": "1_wLMatf-h6c",
        "outputId": "060269cc-d437-4dd0-c91e-a419e0afdbfb",
        "cellView": "form"
      },
      "outputs": [
        {
          "output_type": "stream",
          "name": "stdout",
          "text": [
            "----------------------------------------------------------------\n",
            "        Layer (type)               Output Shape         Param #\n",
            "================================================================\n",
            "            Conv2d-1           [-1, 64, 32, 32]           1,728\n",
            "       BatchNorm2d-2           [-1, 64, 32, 32]             128\n",
            "            Conv2d-3           [-1, 64, 32, 32]          36,864\n",
            "       BatchNorm2d-4           [-1, 64, 32, 32]             128\n",
            "            Conv2d-5           [-1, 64, 32, 32]          36,864\n",
            "       BatchNorm2d-6           [-1, 64, 32, 32]             128\n",
            "        BasicBlock-7           [-1, 64, 32, 32]               0\n",
            "            Conv2d-8           [-1, 64, 32, 32]          36,864\n",
            "       BatchNorm2d-9           [-1, 64, 32, 32]             128\n",
            "           Conv2d-10           [-1, 64, 32, 32]          36,864\n",
            "      BatchNorm2d-11           [-1, 64, 32, 32]             128\n",
            "       BasicBlock-12           [-1, 64, 32, 32]               0\n",
            "           Conv2d-13           [-1, 64, 32, 32]          36,864\n",
            "      BatchNorm2d-14           [-1, 64, 32, 32]             128\n",
            "           Conv2d-15           [-1, 64, 32, 32]          36,864\n",
            "      BatchNorm2d-16           [-1, 64, 32, 32]             128\n",
            "       BasicBlock-17           [-1, 64, 32, 32]               0\n",
            "           Conv2d-18           [-1, 64, 32, 32]          36,864\n",
            "      BatchNorm2d-19           [-1, 64, 32, 32]             128\n",
            "           Conv2d-20           [-1, 64, 32, 32]          36,864\n",
            "      BatchNorm2d-21           [-1, 64, 32, 32]             128\n",
            "       BasicBlock-22           [-1, 64, 32, 32]               0\n",
            "           Conv2d-23           [-1, 64, 32, 32]          36,864\n",
            "      BatchNorm2d-24           [-1, 64, 32, 32]             128\n",
            "           Conv2d-25           [-1, 64, 32, 32]          36,864\n",
            "      BatchNorm2d-26           [-1, 64, 32, 32]             128\n",
            "       BasicBlock-27           [-1, 64, 32, 32]               0\n",
            "           Conv2d-28           [-1, 64, 32, 32]          36,864\n",
            "      BatchNorm2d-29           [-1, 64, 32, 32]             128\n",
            "           Conv2d-30           [-1, 64, 32, 32]          36,864\n",
            "      BatchNorm2d-31           [-1, 64, 32, 32]             128\n",
            "       BasicBlock-32           [-1, 64, 32, 32]               0\n",
            "           Conv2d-33           [-1, 64, 32, 32]          36,864\n",
            "      BatchNorm2d-34           [-1, 64, 32, 32]             128\n",
            "           Conv2d-35           [-1, 64, 32, 32]          36,864\n",
            "      BatchNorm2d-36           [-1, 64, 32, 32]             128\n",
            "       BasicBlock-37           [-1, 64, 32, 32]               0\n",
            "           Conv2d-38           [-1, 64, 32, 32]          36,864\n",
            "      BatchNorm2d-39           [-1, 64, 32, 32]             128\n",
            "           Conv2d-40           [-1, 64, 32, 32]          36,864\n",
            "      BatchNorm2d-41           [-1, 64, 32, 32]             128\n",
            "       BasicBlock-42           [-1, 64, 32, 32]               0\n",
            "           Conv2d-43          [-1, 128, 16, 16]          73,728\n",
            "      BatchNorm2d-44          [-1, 128, 16, 16]             256\n",
            "           Conv2d-45          [-1, 128, 16, 16]         147,456\n",
            "      BatchNorm2d-46          [-1, 128, 16, 16]             256\n",
            "           Conv2d-47          [-1, 128, 16, 16]           8,192\n",
            "      BatchNorm2d-48          [-1, 128, 16, 16]             256\n",
            "       BasicBlock-49          [-1, 128, 16, 16]               0\n",
            "           Conv2d-50          [-1, 128, 16, 16]         147,456\n",
            "      BatchNorm2d-51          [-1, 128, 16, 16]             256\n",
            "           Conv2d-52          [-1, 128, 16, 16]         147,456\n",
            "      BatchNorm2d-53          [-1, 128, 16, 16]             256\n",
            "       BasicBlock-54          [-1, 128, 16, 16]               0\n",
            "           Conv2d-55          [-1, 128, 16, 16]         147,456\n",
            "      BatchNorm2d-56          [-1, 128, 16, 16]             256\n",
            "           Conv2d-57          [-1, 128, 16, 16]         147,456\n",
            "      BatchNorm2d-58          [-1, 128, 16, 16]             256\n",
            "       BasicBlock-59          [-1, 128, 16, 16]               0\n",
            "           Conv2d-60          [-1, 128, 16, 16]         147,456\n",
            "      BatchNorm2d-61          [-1, 128, 16, 16]             256\n",
            "           Conv2d-62          [-1, 128, 16, 16]         147,456\n",
            "      BatchNorm2d-63          [-1, 128, 16, 16]             256\n",
            "       BasicBlock-64          [-1, 128, 16, 16]               0\n",
            "           Conv2d-65          [-1, 128, 16, 16]         147,456\n",
            "      BatchNorm2d-66          [-1, 128, 16, 16]             256\n",
            "           Conv2d-67          [-1, 128, 16, 16]         147,456\n",
            "      BatchNorm2d-68          [-1, 128, 16, 16]             256\n",
            "       BasicBlock-69          [-1, 128, 16, 16]               0\n",
            "           Conv2d-70          [-1, 128, 16, 16]         147,456\n",
            "      BatchNorm2d-71          [-1, 128, 16, 16]             256\n",
            "           Conv2d-72          [-1, 128, 16, 16]         147,456\n",
            "      BatchNorm2d-73          [-1, 128, 16, 16]             256\n",
            "       BasicBlock-74          [-1, 128, 16, 16]               0\n",
            "           Conv2d-75          [-1, 128, 16, 16]         147,456\n",
            "      BatchNorm2d-76          [-1, 128, 16, 16]             256\n",
            "           Conv2d-77          [-1, 128, 16, 16]         147,456\n",
            "      BatchNorm2d-78          [-1, 128, 16, 16]             256\n",
            "       BasicBlock-79          [-1, 128, 16, 16]               0\n",
            "           Conv2d-80          [-1, 128, 16, 16]         147,456\n",
            "      BatchNorm2d-81          [-1, 128, 16, 16]             256\n",
            "           Conv2d-82          [-1, 128, 16, 16]         147,456\n",
            "      BatchNorm2d-83          [-1, 128, 16, 16]             256\n",
            "       BasicBlock-84          [-1, 128, 16, 16]               0\n",
            "           Conv2d-85            [-1, 256, 8, 8]         294,912\n",
            "      BatchNorm2d-86            [-1, 256, 8, 8]             512\n",
            "           Conv2d-87            [-1, 256, 8, 8]         589,824\n",
            "      BatchNorm2d-88            [-1, 256, 8, 8]             512\n",
            "           Conv2d-89            [-1, 256, 8, 8]          32,768\n",
            "      BatchNorm2d-90            [-1, 256, 8, 8]             512\n",
            "       BasicBlock-91            [-1, 256, 8, 8]               0\n",
            "           Conv2d-92            [-1, 256, 8, 8]         589,824\n",
            "      BatchNorm2d-93            [-1, 256, 8, 8]             512\n",
            "           Conv2d-94            [-1, 256, 8, 8]         589,824\n",
            "      BatchNorm2d-95            [-1, 256, 8, 8]             512\n",
            "       BasicBlock-96            [-1, 256, 8, 8]               0\n",
            "           Linear-97                   [-1, 10]           2,570\n",
            "================================================================\n",
            "Total params: 4,994,122\n",
            "Trainable params: 4,994,122\n",
            "Non-trainable params: 0\n",
            "----------------------------------------------------------------\n",
            "Input size (MB): 0.01\n",
            "Forward/backward pass size (MB): 33.00\n",
            "Params size (MB): 19.05\n",
            "Estimated Total Size (MB): 52.06\n",
            "----------------------------------------------------------------\n"
          ]
        }
      ],
      "source": [
        "#@title Print out ResNet model summary \n",
        "summary(net, (3,32,32))"
      ]
    },
    {
      "cell_type": "code",
      "execution_count": 12,
      "metadata": {
        "id": "96HFrakRat-M",
        "cellView": "form"
      },
      "outputs": [],
      "source": [
        "#@title Define an early stopper class\n",
        "# Code adapted from: https://stackoverflow.com/questions/71998978/early-stopping-in-pytorch\n",
        "class EarlyStopper():\n",
        "    def __init__(self, patience=3, min_delta=5):\n",
        "        self.patience = patience\n",
        "        self.min_delta = min_delta\n",
        "        self.prev_validation_acc = 0 \n",
        "        self.counter = 0\n",
        "        self.early_stop = False\n",
        "\n",
        "    def __call__(self, train_acc, validation_acc):\n",
        "      inter_delta = (train_acc - validation_acc) \n",
        "      if (inter_delta > self.min_delta) and (validation_acc < self.prev_validation_acc):\n",
        "          self.counter +=1\n",
        "          if self.counter >= self.patience:  \n",
        "              self.early_stop = True\n",
        "      \n",
        "      self.prev_validation_acc = validation_acc\n",
        "\n"
      ]
    },
    {
      "cell_type": "code",
      "execution_count": 13,
      "metadata": {
        "id": "yzAahqy5A0ZA",
        "cellView": "form"
      },
      "outputs": [],
      "source": [
        "#@title Train loop\n",
        "def train(epoch):\n",
        "    print('\\n|Epoch: %d ------------------------------|' % epoch)\n",
        "    net.train()\n",
        "    train_loss = 0\n",
        "    correct = 0\n",
        "    total = 0\n",
        "    for batch_idx, (inputs, targets) in enumerate(trainloader):\n",
        "        inputs, targets = inputs.to(DEVICE), targets.to(DEVICE)\n",
        "        optimizer.zero_grad()\n",
        "        outputs = net(inputs)\n",
        "        loss = criterion(outputs, targets)\n",
        "        loss.backward()\n",
        "        optimizer.step()\n",
        "\n",
        "        train_loss += loss.item()\n",
        "        _, predicted = outputs.max(1)\n",
        "        total += targets.size(0)\n",
        "        correct += predicted.eq(targets).sum().item()\n",
        "    train_loss = 100.*train_loss/total\n",
        "    acc = 100.*correct/total\n",
        "    print(f'Train loss:     {np.round(train_loss,2)}e-2')\n",
        "    print(f'Train accuracy: {acc}%')\n",
        "    return acc, train_loss\n"
      ]
    },
    {
      "cell_type": "code",
      "execution_count": 14,
      "metadata": {
        "id": "QBdmysmyA8RB",
        "cellView": "form"
      },
      "outputs": [],
      "source": [
        "#@title Test loop\n",
        "def test(epoch):\n",
        "    global best_acc\n",
        "    net.eval()\n",
        "    val_loss = 0\n",
        "    correct = 0\n",
        "    total = 0\n",
        "    with torch.no_grad():\n",
        "        for batch_idx, (inputs, targets) in enumerate(validloader):\n",
        "            inputs, targets = inputs.to(DEVICE), targets.to(DEVICE)\n",
        "            outputs = net(inputs)\n",
        "            loss = criterion(outputs, targets)\n",
        "\n",
        "            val_loss += loss.item()\n",
        "            _, predicted = outputs.max(1)\n",
        "            total += targets.size(0)\n",
        "            correct += predicted.eq(targets).sum().item()\n",
        "    # Save checkpoint.\n",
        "    acc = 100.*correct/total\n",
        "    val_loss = 100.*val_loss/total\n",
        "    print(f'Validation loss:     {np.round(val_loss,2)}e-2')\n",
        "    print(f'Validation accuracy: {acc}%')\n",
        "    if acc > best_acc:\n",
        "        print('Saving..')\n",
        "        state = {\n",
        "            'net': net.state_dict(),\n",
        "            'acc': acc,\n",
        "            'epoch': epoch,\n",
        "        }\n",
        "\n",
        "        if not os.path.isdir( CKPT_FLDR ):\n",
        "          os.mkdir( CKPT_FLDR )\n",
        "        torch.save(state, CKPT_PATH)\n",
        "        best_acc = acc\n",
        "    return acc, val_loss"
      ]
    },
    {
      "cell_type": "code",
      "execution_count": null,
      "metadata": {
        "colab": {
          "base_uri": "https://localhost:8080/"
        },
        "id": "dU7W_-S6BJ-U",
        "outputId": "a6337f59-8d54-428f-e622-217cf79e62d5",
        "cellView": "form"
      },
      "outputs": [
        {
          "output_type": "stream",
          "name": "stdout",
          "text": [
            "\n",
            "|Epoch: 0 ------------------------------|\n",
            "Train loss:     2.22e-2\n",
            "Train accuracy: 48.038%\n",
            "Validation loss:     1.8e-2\n",
            "Validation accuracy: 59.37%\n",
            "Saving..\n",
            "\n",
            "|Epoch: 1 ------------------------------|\n"
          ]
        }
      ],
      "source": [
        "#@title Run training for defined number of epochs\n",
        "\n",
        "best_acc = 0  # best test accuracy\n",
        "start_epoch = 0  # start from epoch 0 or last checkpoint epoch\n",
        "accuracy = {\n",
        "    'train': [],\n",
        "    'validation': []\n",
        "    }\n",
        "loss= {\n",
        "    'train': [],\n",
        "     'validation': []\n",
        "     }\n",
        "early_stopper = EarlyStopper(patience=PATIENCE,\n",
        "                             min_delta=MIN_DELTA)\n",
        "EPOCHS_COMPLETED = 0\n",
        "for epoch in range(NUM_EPOCHS):\n",
        "    train_acc, train_loss = train(epoch)\n",
        "    val_acc, val_loss = test(epoch)\n",
        "    #--------------------------------------\n",
        "    accuracy['train'].append(train_acc)\n",
        "    accuracy['validation'].append(val_acc)\n",
        "    loss['train'].append(train_loss)\n",
        "    loss['validation'].append(val_loss)\n",
        "    #--------------------------------------\n",
        "    early_stopper(train_acc, val_acc)\n",
        "    EPOCHS_COMPLETED += 1\n",
        "    if early_stopper.early_stop:      \n",
        "        print('Model appears to be overfitting, stopping early.')       \n",
        "        break\n",
        "    #--------------------------------------\n",
        "    #scheduler.step() Want to better control lr"
      ]
    },
    {
      "cell_type": "code",
      "execution_count": null,
      "metadata": {
        "id": "L5_EcIBGURXm"
      },
      "outputs": [],
      "source": [
        "#@title Plot test and train loss \n",
        "import matplotlib.pyplot as plt\n",
        "\n",
        "plt.plot(range(EPOCHS_COMPLETED),\n",
        "         loss['train'],\n",
        "         '-',\n",
        "         linewidth=3,\n",
        "         label='Train error')\n",
        "plt.plot(range(EPOCHS_COMPLETED),loss['validation'],'-',linewidth=3,label='Validation error')\n",
        "plt.xlabel('epoch')\n",
        "plt.ylabel('loss')\n",
        "plt.grid(True)\n",
        "plt.legend()\n"
      ]
    },
    {
      "cell_type": "code",
      "execution_count": null,
      "metadata": {
        "id": "LsMwYHBuU2iy"
      },
      "outputs": [],
      "source": [
        "#@title Plot test and train accuracy \n",
        "import matplotlib.pyplot as plt\n",
        "\n",
        "plt.plot(range(EPOCHS_COMPLETED),\n",
        "         accuracy['train'],\n",
        "         '-',\n",
        "         linewidth=3,\n",
        "         label='Train accuracy')\n",
        "plt.plot(range(EPOCHS_COMPLETED),\n",
        "        accuracy['validation'],\n",
        "        '-',\n",
        "        linewidth=3,\n",
        "        label='Validation accuracy')\n",
        "plt.xlabel('epoch')\n",
        "plt.ylabel('accuracy')\n",
        "plt.grid(True)\n",
        "plt.legend()"
      ]
    }
  ],
  "metadata": {
    "accelerator": "GPU",
    "colab": {
      "provenance": []
    },
    "gpuClass": "standard",
    "kernelspec": {
      "display_name": "Python 3",
      "name": "python3"
    },
    "language_info": {
      "name": "python"
    },
    "widgets": {
      "application/vnd.jupyter.widget-state+json": {
        "d84138e508ab49779d3563d64b516bb2": {
          "model_module": "@jupyter-widgets/controls",
          "model_name": "HBoxModel",
          "model_module_version": "1.5.0",
          "state": {
            "_dom_classes": [],
            "_model_module": "@jupyter-widgets/controls",
            "_model_module_version": "1.5.0",
            "_model_name": "HBoxModel",
            "_view_count": null,
            "_view_module": "@jupyter-widgets/controls",
            "_view_module_version": "1.5.0",
            "_view_name": "HBoxView",
            "box_style": "",
            "children": [
              "IPY_MODEL_d673abd37b8c4a05820667db29e71d85",
              "IPY_MODEL_55e98f2c07164191a4880f5d1b91e596",
              "IPY_MODEL_c81cbce9aafb411c9a3fd6efdf1ec95a"
            ],
            "layout": "IPY_MODEL_6d9f05a767024bd3a9b8081a7cd4e278"
          }
        },
        "d673abd37b8c4a05820667db29e71d85": {
          "model_module": "@jupyter-widgets/controls",
          "model_name": "HTMLModel",
          "model_module_version": "1.5.0",
          "state": {
            "_dom_classes": [],
            "_model_module": "@jupyter-widgets/controls",
            "_model_module_version": "1.5.0",
            "_model_name": "HTMLModel",
            "_view_count": null,
            "_view_module": "@jupyter-widgets/controls",
            "_view_module_version": "1.5.0",
            "_view_name": "HTMLView",
            "description": "",
            "description_tooltip": null,
            "layout": "IPY_MODEL_9574c97d1c904b14b05e87be7a8b9940",
            "placeholder": "​",
            "style": "IPY_MODEL_0b1a6c6253cf42fca717f3114b173446",
            "value": "100%"
          }
        },
        "55e98f2c07164191a4880f5d1b91e596": {
          "model_module": "@jupyter-widgets/controls",
          "model_name": "FloatProgressModel",
          "model_module_version": "1.5.0",
          "state": {
            "_dom_classes": [],
            "_model_module": "@jupyter-widgets/controls",
            "_model_module_version": "1.5.0",
            "_model_name": "FloatProgressModel",
            "_view_count": null,
            "_view_module": "@jupyter-widgets/controls",
            "_view_module_version": "1.5.0",
            "_view_name": "ProgressView",
            "bar_style": "success",
            "description": "",
            "description_tooltip": null,
            "layout": "IPY_MODEL_1a83e8fba2f647d8996dd4e79513b30a",
            "max": 170498071,
            "min": 0,
            "orientation": "horizontal",
            "style": "IPY_MODEL_000b7025916d402cae3567b6f1342cc6",
            "value": 170498071
          }
        },
        "c81cbce9aafb411c9a3fd6efdf1ec95a": {
          "model_module": "@jupyter-widgets/controls",
          "model_name": "HTMLModel",
          "model_module_version": "1.5.0",
          "state": {
            "_dom_classes": [],
            "_model_module": "@jupyter-widgets/controls",
            "_model_module_version": "1.5.0",
            "_model_name": "HTMLModel",
            "_view_count": null,
            "_view_module": "@jupyter-widgets/controls",
            "_view_module_version": "1.5.0",
            "_view_name": "HTMLView",
            "description": "",
            "description_tooltip": null,
            "layout": "IPY_MODEL_7510d047e8da467b91847d4873d0cbcc",
            "placeholder": "​",
            "style": "IPY_MODEL_46efea019d984a75acc022fff99f501c",
            "value": " 170498071/170498071 [00:01&lt;00:00, 109075039.25it/s]"
          }
        },
        "6d9f05a767024bd3a9b8081a7cd4e278": {
          "model_module": "@jupyter-widgets/base",
          "model_name": "LayoutModel",
          "model_module_version": "1.2.0",
          "state": {
            "_model_module": "@jupyter-widgets/base",
            "_model_module_version": "1.2.0",
            "_model_name": "LayoutModel",
            "_view_count": null,
            "_view_module": "@jupyter-widgets/base",
            "_view_module_version": "1.2.0",
            "_view_name": "LayoutView",
            "align_content": null,
            "align_items": null,
            "align_self": null,
            "border": null,
            "bottom": null,
            "display": null,
            "flex": null,
            "flex_flow": null,
            "grid_area": null,
            "grid_auto_columns": null,
            "grid_auto_flow": null,
            "grid_auto_rows": null,
            "grid_column": null,
            "grid_gap": null,
            "grid_row": null,
            "grid_template_areas": null,
            "grid_template_columns": null,
            "grid_template_rows": null,
            "height": null,
            "justify_content": null,
            "justify_items": null,
            "left": null,
            "margin": null,
            "max_height": null,
            "max_width": null,
            "min_height": null,
            "min_width": null,
            "object_fit": null,
            "object_position": null,
            "order": null,
            "overflow": null,
            "overflow_x": null,
            "overflow_y": null,
            "padding": null,
            "right": null,
            "top": null,
            "visibility": null,
            "width": null
          }
        },
        "9574c97d1c904b14b05e87be7a8b9940": {
          "model_module": "@jupyter-widgets/base",
          "model_name": "LayoutModel",
          "model_module_version": "1.2.0",
          "state": {
            "_model_module": "@jupyter-widgets/base",
            "_model_module_version": "1.2.0",
            "_model_name": "LayoutModel",
            "_view_count": null,
            "_view_module": "@jupyter-widgets/base",
            "_view_module_version": "1.2.0",
            "_view_name": "LayoutView",
            "align_content": null,
            "align_items": null,
            "align_self": null,
            "border": null,
            "bottom": null,
            "display": null,
            "flex": null,
            "flex_flow": null,
            "grid_area": null,
            "grid_auto_columns": null,
            "grid_auto_flow": null,
            "grid_auto_rows": null,
            "grid_column": null,
            "grid_gap": null,
            "grid_row": null,
            "grid_template_areas": null,
            "grid_template_columns": null,
            "grid_template_rows": null,
            "height": null,
            "justify_content": null,
            "justify_items": null,
            "left": null,
            "margin": null,
            "max_height": null,
            "max_width": null,
            "min_height": null,
            "min_width": null,
            "object_fit": null,
            "object_position": null,
            "order": null,
            "overflow": null,
            "overflow_x": null,
            "overflow_y": null,
            "padding": null,
            "right": null,
            "top": null,
            "visibility": null,
            "width": null
          }
        },
        "0b1a6c6253cf42fca717f3114b173446": {
          "model_module": "@jupyter-widgets/controls",
          "model_name": "DescriptionStyleModel",
          "model_module_version": "1.5.0",
          "state": {
            "_model_module": "@jupyter-widgets/controls",
            "_model_module_version": "1.5.0",
            "_model_name": "DescriptionStyleModel",
            "_view_count": null,
            "_view_module": "@jupyter-widgets/base",
            "_view_module_version": "1.2.0",
            "_view_name": "StyleView",
            "description_width": ""
          }
        },
        "1a83e8fba2f647d8996dd4e79513b30a": {
          "model_module": "@jupyter-widgets/base",
          "model_name": "LayoutModel",
          "model_module_version": "1.2.0",
          "state": {
            "_model_module": "@jupyter-widgets/base",
            "_model_module_version": "1.2.0",
            "_model_name": "LayoutModel",
            "_view_count": null,
            "_view_module": "@jupyter-widgets/base",
            "_view_module_version": "1.2.0",
            "_view_name": "LayoutView",
            "align_content": null,
            "align_items": null,
            "align_self": null,
            "border": null,
            "bottom": null,
            "display": null,
            "flex": null,
            "flex_flow": null,
            "grid_area": null,
            "grid_auto_columns": null,
            "grid_auto_flow": null,
            "grid_auto_rows": null,
            "grid_column": null,
            "grid_gap": null,
            "grid_row": null,
            "grid_template_areas": null,
            "grid_template_columns": null,
            "grid_template_rows": null,
            "height": null,
            "justify_content": null,
            "justify_items": null,
            "left": null,
            "margin": null,
            "max_height": null,
            "max_width": null,
            "min_height": null,
            "min_width": null,
            "object_fit": null,
            "object_position": null,
            "order": null,
            "overflow": null,
            "overflow_x": null,
            "overflow_y": null,
            "padding": null,
            "right": null,
            "top": null,
            "visibility": null,
            "width": null
          }
        },
        "000b7025916d402cae3567b6f1342cc6": {
          "model_module": "@jupyter-widgets/controls",
          "model_name": "ProgressStyleModel",
          "model_module_version": "1.5.0",
          "state": {
            "_model_module": "@jupyter-widgets/controls",
            "_model_module_version": "1.5.0",
            "_model_name": "ProgressStyleModel",
            "_view_count": null,
            "_view_module": "@jupyter-widgets/base",
            "_view_module_version": "1.2.0",
            "_view_name": "StyleView",
            "bar_color": null,
            "description_width": ""
          }
        },
        "7510d047e8da467b91847d4873d0cbcc": {
          "model_module": "@jupyter-widgets/base",
          "model_name": "LayoutModel",
          "model_module_version": "1.2.0",
          "state": {
            "_model_module": "@jupyter-widgets/base",
            "_model_module_version": "1.2.0",
            "_model_name": "LayoutModel",
            "_view_count": null,
            "_view_module": "@jupyter-widgets/base",
            "_view_module_version": "1.2.0",
            "_view_name": "LayoutView",
            "align_content": null,
            "align_items": null,
            "align_self": null,
            "border": null,
            "bottom": null,
            "display": null,
            "flex": null,
            "flex_flow": null,
            "grid_area": null,
            "grid_auto_columns": null,
            "grid_auto_flow": null,
            "grid_auto_rows": null,
            "grid_column": null,
            "grid_gap": null,
            "grid_row": null,
            "grid_template_areas": null,
            "grid_template_columns": null,
            "grid_template_rows": null,
            "height": null,
            "justify_content": null,
            "justify_items": null,
            "left": null,
            "margin": null,
            "max_height": null,
            "max_width": null,
            "min_height": null,
            "min_width": null,
            "object_fit": null,
            "object_position": null,
            "order": null,
            "overflow": null,
            "overflow_x": null,
            "overflow_y": null,
            "padding": null,
            "right": null,
            "top": null,
            "visibility": null,
            "width": null
          }
        },
        "46efea019d984a75acc022fff99f501c": {
          "model_module": "@jupyter-widgets/controls",
          "model_name": "DescriptionStyleModel",
          "model_module_version": "1.5.0",
          "state": {
            "_model_module": "@jupyter-widgets/controls",
            "_model_module_version": "1.5.0",
            "_model_name": "DescriptionStyleModel",
            "_view_count": null,
            "_view_module": "@jupyter-widgets/base",
            "_view_module_version": "1.2.0",
            "_view_name": "StyleView",
            "description_width": ""
          }
        }
      }
    }
  },
  "nbformat": 4,
  "nbformat_minor": 0
}